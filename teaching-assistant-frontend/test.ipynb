{
 "cells": [
  {
   "cell_type": "code",
   "execution_count": 2,
   "metadata": {},
   "outputs": [
    {
     "name": "stdout",
     "output_type": "stream",
     "text": [
      "Nanyang Technological University (NTU) is a leading research-intensive university in Singapore, known for its strong emphasis on innovation and entrepreneurship. It is consistently ranked among the top universities in Asia and the world, with particular strengths in engineering, business, and computer science.\n",
      "\n",
      "NTU has a vibrant campus community with a diverse student population from over 100 countries. The university offers a wide range of undergraduate and postgraduate programs, as well as opportunities for research and collaboration with industry partners.\n",
      "\n",
      "NTU is also home to several research institutes and centers, focusing on areas such as sustainability, healthcare, and artificial intelligence. The university has a strong track record of producing groundbreaking research and innovations that have real-world impact.\n",
      "\n",
      "Overall, NTU is recognized for its academic excellence, cutting-edge research, and commitment to preparing students for success in the global marketplace."
     ]
    }
   ],
   "source": [
    "from openai import AzureOpenAI\n",
    "import os\n",
    "from dotenv import load_dotenv\n",
    "from azure.identity import DefaultAzureCredential, get_bearer_token_provider\n",
    "from langchain_openai import AzureChatOpenAI\n",
    "\n",
    "load_dotenv()\n",
    "llm_stream = AzureChatOpenAI(\n",
    "    azure_endpoint=os.getenv(\"AZ_OPENAI_ENDPOINT\"),\n",
    "    openai_api_version=\"2024-05-01-preview\",\n",
    "    model_name=\"gpt-35-turbo\",\n",
    "    openai_api_key=os.getenv(\"AZ_OPENAI_API_KEY\"),\n",
    "    openai_api_type=\"azure\",\n",
    "    temperature=0.3,\n",
    "    streaming=True,\n",
    ")\n",
    "prompt = \"Tell me something about NTU\"\n",
    "\n",
    "for chunk in llm_stream.stream(prompt):\n",
    "    print(chunk.content, end=\"\", flush=True)"
   ]
  }
 ],
 "metadata": {
  "kernelspec": {
   "display_name": "myEnv",
   "language": "python",
   "name": "python3"
  },
  "language_info": {
   "codemirror_mode": {
    "name": "ipython",
    "version": 3
   },
   "file_extension": ".py",
   "mimetype": "text/x-python",
   "name": "python",
   "nbconvert_exporter": "python",
   "pygments_lexer": "ipython3",
   "version": "3.12.8"
  }
 },
 "nbformat": 4,
 "nbformat_minor": 2
}
